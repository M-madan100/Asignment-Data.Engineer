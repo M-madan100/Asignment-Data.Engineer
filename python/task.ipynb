{
 "cells": [
  {
   "cell_type": "code",
   "execution_count": 1,
   "metadata": {},
   "outputs": [
    {
     "data": {
      "text/plain": [
       "array([[[120, 121, 149],\n",
       "        [120, 121, 149],\n",
       "        [121, 119, 148],\n",
       "        ...,\n",
       "        [100,  90, 102],\n",
       "        [102,  92, 104],\n",
       "        [101,  91, 103]],\n",
       "\n",
       "       [[120, 121, 149],\n",
       "        [120, 121, 149],\n",
       "        [121, 119, 148],\n",
       "        ...,\n",
       "        [100,  90, 102],\n",
       "        [102,  92, 104],\n",
       "        [101,  91, 103]],\n",
       "\n",
       "       [[118, 117, 143],\n",
       "        [117, 116, 142],\n",
       "        [121, 117, 146],\n",
       "        ...,\n",
       "        [101,  92, 102],\n",
       "        [100,  90, 102],\n",
       "        [101,  91, 103]],\n",
       "\n",
       "       ...,\n",
       "\n",
       "       [[115, 116, 144],\n",
       "        [117, 117, 141],\n",
       "        [119, 117, 137],\n",
       "        ...,\n",
       "        [102,  93, 103],\n",
       "        [101,  90, 100],\n",
       "        [102,  91, 101]],\n",
       "\n",
       "       [[113, 110, 132],\n",
       "        [114, 112, 132],\n",
       "        [116, 110, 127],\n",
       "        ...,\n",
       "        [102,  94, 105],\n",
       "        [103,  93, 105],\n",
       "        [105,  95, 107]],\n",
       "\n",
       "       [[109, 105, 124],\n",
       "        [109, 106, 122],\n",
       "        [111, 103, 120],\n",
       "        ...,\n",
       "        [103,  95, 106],\n",
       "        [104,  94, 106],\n",
       "        [105,  95, 107]]], dtype=uint8)"
      ]
     },
     "execution_count": 1,
     "metadata": {},
     "output_type": "execute_result"
    },
    {
     "data": {
      "image/png": "[encoded data removed]",
      "text/plain": [
       "<Figure size 432x288 with 1 Axes>"
      ]
     },
     "metadata": {
      "needs_background": "light"
     },
     "output_type": "display_data"
    }
   ],
   "source": [
    "from keras.preprocessing import image\n",
    "import tensorflow as tf\n",
    "import matplotlib.pyplot as plt\n",
    "import cv2\n",
    "import os\n",
    "import numpy as np\n",
    "\n",
    "\n",
    "img = image.load_img(\"testImages/AnnualCrop_1.jpg\")\n",
    "plt.imshow(img)\n",
    "\n",
    "\n",
    "cv2.imread(\"testImages/AnnualCrop_1.jpg\")\n"
   ]
  },
  {
   "cell_type": "code",
   "execution_count": 2,
   "metadata": {},
   "outputs": [
    {
     "name": "stdout",
     "output_type": "stream",
     "text": [
      "Found 0 images belonging to 0 classes.\n",
      "Found 675 images belonging to 3 classes.\n"
     ]
    },
    {
     "data": {
      "text/plain": [
       "{'AnnualCrop': 0, 'Forest': 1, 'HerbaceousVegetation': 2}"
      ]
     },
     "execution_count": 2,
     "metadata": {},
     "output_type": "execute_result"
    }
   ],
   "source": [
    "\n",
    "train = tf.keras.preprocessing.image.ImageDataGenerator(rescale=1/255)\n",
    "validation = tf.keras.preprocessing.image.ImageDataGenerator(rescale=1/255)\n",
    "\n",
    "validation_generator = validation.flow_from_directory('validation', target_size=(\n",
    "    200, 200))\n",
    "\n",
    "train_dataset = train.flow_from_directory('trainImages', target_size=(\n",
    "    200, 200), color_mode=\"rgb\", batch_size=100, class_mode='categorical')\n",
    "\n",
    "train_dataset.class_indices\n"
   ]
  },
  {
   "cell_type": "code",
   "execution_count": 3,
   "metadata": {},
   "outputs": [
    {
     "data": {
      "text/plain": [
       "array([0, 0, 0, 0, 0, 0, 0, 0, 0, 0, 0, 0, 0, 0, 0, 0, 0, 0, 0, 0, 0, 0,\n",
       "       0, 0, 0, 0, 0, 0, 0, 0, 0, 0, 0, 0, 0, 0, 0, 0, 0, 0, 0, 0, 0, 0,\n",
       "       0, 0, 0, 0, 0, 0, 0, 0, 0, 0, 0, 0, 0, 0, 0, 0, 0, 0, 0, 0, 0, 0,\n",
       "       0, 0, 0, 0, 0, 0, 0, 0, 0, 0, 0, 0, 0, 0, 0, 0, 0, 0, 0, 0, 0, 0,\n",
       "       0, 0, 0, 0, 0, 0, 0, 0, 0, 0, 0, 0, 0, 0, 0, 0, 0, 0, 0, 0, 0, 0,\n",
       "       0, 0, 0, 0, 0, 0, 0, 0, 0, 0, 0, 0, 0, 0, 0, 0, 0, 0, 0, 0, 0, 0,\n",
       "       0, 0, 0, 0, 0, 0, 0, 0, 0, 0, 0, 0, 0, 0, 0, 0, 0, 0, 0, 0, 0, 0,\n",
       "       0, 0, 0, 0, 0, 0, 0, 0, 0, 0, 0, 0, 0, 0, 0, 0, 0, 0, 0, 0, 0, 0,\n",
       "       0, 0, 0, 0, 0, 0, 0, 0, 0, 0, 0, 0, 0, 0, 0, 0, 0, 0, 0, 0, 0, 0,\n",
       "       0, 0, 0, 0, 0, 0, 0, 0, 0, 0, 0, 0, 0, 0, 1, 1, 1, 1, 1, 1, 1, 1,\n",
       "       1, 1, 1, 1, 1, 1, 1, 1, 1, 1, 1, 1, 1, 1, 1, 1, 1, 1, 1, 1, 1, 1,\n",
       "       1, 1, 1, 1, 1, 1, 1, 1, 1, 1, 1, 1, 1, 1, 1, 1, 1, 1, 1, 1, 1, 1,\n",
       "       1, 1, 1, 1, 1, 1, 1, 1, 1, 1, 1, 1, 1, 1, 1, 1, 1, 1, 1, 1, 1, 1,\n",
       "       1, 1, 1, 1, 1, 1, 1, 1, 1, 1, 1, 1, 1, 1, 1, 1, 1, 1, 1, 1, 1, 1,\n",
       "       1, 1, 1, 1, 1, 1, 1, 1, 1, 1, 1, 1, 1, 1, 1, 1, 1, 1, 1, 1, 1, 1,\n",
       "       1, 1, 1, 1, 1, 1, 1, 1, 1, 1, 1, 1, 1, 1, 1, 1, 1, 1, 1, 1, 1, 1,\n",
       "       1, 1, 1, 1, 1, 1, 1, 1, 1, 1, 1, 1, 1, 1, 1, 1, 1, 1, 1, 1, 1, 1,\n",
       "       1, 1, 1, 1, 1, 1, 1, 1, 1, 1, 1, 1, 1, 1, 1, 1, 1, 1, 1, 1, 1, 1,\n",
       "       1, 1, 1, 1, 1, 1, 1, 1, 1, 1, 1, 1, 1, 1, 1, 1, 1, 1, 1, 1, 1, 1,\n",
       "       1, 1, 1, 1, 1, 1, 1, 1, 1, 1, 1, 1, 1, 1, 1, 1, 1, 1, 1, 1, 1, 1,\n",
       "       2, 2, 2, 2, 2, 2, 2, 2, 2, 2, 2, 2, 2, 2, 2, 2, 2, 2, 2, 2, 2, 2,\n",
       "       2, 2, 2, 2, 2, 2, 2, 2, 2, 2, 2, 2, 2, 2, 2, 2, 2, 2, 2, 2, 2, 2,\n",
       "       2, 2, 2, 2, 2, 2, 2, 2, 2, 2, 2, 2, 2, 2, 2, 2, 2, 2, 2, 2, 2, 2,\n",
       "       2, 2, 2, 2, 2, 2, 2, 2, 2, 2, 2, 2, 2, 2, 2, 2, 2, 2, 2, 2, 2, 2,\n",
       "       2, 2, 2, 2, 2, 2, 2, 2, 2, 2, 2, 2, 2, 2, 2, 2, 2, 2, 2, 2, 2, 2,\n",
       "       2, 2, 2, 2, 2, 2, 2, 2, 2, 2, 2, 2, 2, 2, 2, 2, 2, 2, 2, 2, 2, 2,\n",
       "       2, 2, 2, 2, 2, 2, 2, 2, 2, 2, 2, 2, 2, 2, 2, 2, 2, 2, 2, 2, 2, 2,\n",
       "       2, 2, 2, 2, 2, 2, 2, 2, 2, 2, 2, 2, 2, 2, 2, 2, 2, 2, 2, 2, 2, 2,\n",
       "       2, 2, 2, 2, 2, 2, 2, 2, 2, 2, 2, 2, 2, 2, 2, 2, 2, 2, 2, 2, 2, 2,\n",
       "       2, 2, 2, 2, 2, 2, 2, 2, 2, 2, 2, 2, 2, 2, 2, 2, 2, 2, 2, 2, 2, 2,\n",
       "       2, 2, 2, 2, 2, 2, 2, 2, 2, 2, 2, 2, 2, 2, 2])"
      ]
     },
     "execution_count": 3,
     "metadata": {},
     "output_type": "execute_result"
    }
   ],
   "source": [
    "\n",
    "\n",
    "\n",
    "train_dataset.classes\n"
   ]
  },
  {
   "cell_type": "code",
   "execution_count": 4,
   "metadata": {},
   "outputs": [],
   "source": [
    "model = tf.keras.models.Sequential([tf.keras.layers.Conv2D(16,(3,3),activation='relu',input_shape=(200,200,3)),\n",
    "                                    tf.keras.layers.MaxPool2D(2,2),\n",
    "                                    #\n",
    "                                    tf.keras.layers.Conv2D(32,(3,3),activation='relu'),\n",
    "                                    tf.keras.layers.MaxPool2D(2,2),\n",
    "                                    #\n",
    "                                    tf.keras.layers.Conv2D(64,(3,3),activation='relu'),\n",
    "                                    tf.keras.layers.MaxPool2D(2,2),\n",
    "                                    ##\n",
    "                                    tf.keras.layers.Flatten(),\n",
    "                                    ##\n",
    "                                    tf.keras.layers.Dense(512,activation='sigmoid'),\n",
    "                                    ##\n",
    "                                    tf.keras.layers.Dense(1,activation='sigmoid')])\n",
    "\n"
   ]
  },
  {
   "cell_type": "code",
   "execution_count": 5,
   "metadata": {},
   "outputs": [],
   "source": [
    "\n",
    "opt = tf.keras.optimizers.RMSprop(learning_rate=0.01)\n",
    "model.compile(loss='binary_crossentropy',\n",
    "              optimizer= tf.keras.optimizers.RMSprop(learning_rate=0.01),\n",
    "              metrics=['accuracy'] )     \n",
    "\n",
    "\n"
   ]
  },
  {
   "cell_type": "code",
   "execution_count": null,
   "metadata": {},
   "outputs": [
    {
     "name": "stdout",
     "output_type": "stream",
     "text": [
      "Epoch 1/10\n",
      "6/6 [==============================] - 15s 2s/step - loss: 2.6734 - accuracy: 0.5507\n",
      "Epoch 2/10\n",
      "6/6 [==============================] - 13s 2s/step - loss: 0.8660 - accuracy: 0.4928\n",
      "Epoch 3/10\n",
      "6/6 [==============================] - 14s 2s/step - loss: 0.8127 - accuracy: 0.5000\n",
      "Epoch 4/10\n",
      "6/6 [==============================] - 15s 3s/step - loss: 0.8068 - accuracy: 0.5072\n",
      "Epoch 5/10\n",
      "1/6 [====>.........................] - ETA: 11s - loss: 0.8532 - accuracy: 0.6667"
     ]
    }
   ],
   "source": [
    "\n",
    "model_fit = model.fit(train_dataset,\n",
    "            steps_per_epoch = 6 ,\n",
    "            epochs = 10,\n",
    "            validation_data = validation_generator,\n",
    "            validation_steps = 8\n",
    "            )\n",
    "\n",
    "print(model_fit)           \n",
    "\n"
   ]
  },
  {
   "cell_type": "code",
   "execution_count": null,
   "metadata": {},
   "outputs": [],
   "source": [
    "dir_path = 'testImages'\n",
    "\n",
    "for i in os.listdir(dir_path):\n",
    "    img = image.load_img(dir_path + '//' + i, target_size=(200,200,3)  )\n",
    "    plt.imshow(img)\n",
    "    plt.show()\n",
    "\n",
    "\n",
    "    X = image.img_to_array(img)\n",
    "    X = np.expand_dims(X,axis =0)\n",
    "    images = np.vstack([X])\n",
    "    val = model.predict(images)\n",
    "    print(val)\n",
    "    # if val == 0:\n",
    "    #     print('AnnualCrop')\n",
    "    # elif val == 1:\n",
    "    #     print(\"Forest\")\n",
    "    # elif val == 2:\n",
    "    #     print(\"HerbaceousVegetation\")\n",
    "    # elif val == 3:\n",
    "    #     print(\"Highway\")\n",
    "    # elif val == 4:\n",
    "    #     print(\"Industrial\")\n",
    "    # elif val == 5:\n",
    "    #     print(\"Pasture\")\n",
    "    # elif val == 6:\n",
    "    #     print(\"PermanentCrop\")\n",
    "    # elif val == 7:\n",
    "    #     print(\"Residential\")  \n",
    "    # elif val == 8:\n",
    "    #     print(\"River\")\n",
    "    # else:\n",
    "    #     print(\"SeaLake\")                              \n",
    "\n",
    "\n"
   ]
  },
  {
   "cell_type": "code",
   "execution_count": null,
   "metadata": {},
   "outputs": [],
   "source": []
  }
 ],
 "metadata": {
  "interpreter": {
   "hash": "90743e24dc6c1b921911883eae6687988727385d5f4ef9c75f3f98dc37bd632e"
  },
  "kernelspec": {
   "display_name": "Python 3 (ipykernel)",
   "language": "python",
   "name": "python3"
  },
  "language_info": {
   "codemirror_mode": {
    "name": "ipython",
    "version": 3
   },
   "file_extension": ".py",
   "mimetype": "text/x-python",
   "name": "python",
   "nbconvert_exporter": "python",
   "pygments_lexer": "ipython3",
   "version": "3.9.7"
  }
 },
 "nbformat": 4,
 "nbformat_minor": 4
}

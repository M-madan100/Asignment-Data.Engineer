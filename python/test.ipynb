import cv2 as cv 

image  = cv.imread('River/River_10.jpg')


# rescaling
def rescaleFrame(frame, scale=1.1):
    width = int(frame.shape[1]*scale)
    height = int(frame.shape[0]*scale)
    dimension = (width,height)

    return cv.resize(frame,dimension,interpolation = cv.INTER_AREA)

frame_resized = rescaleFrame(image)

edge = cv.Canny(frame_resized,125,125)

cv.imshow('River', edge)  


cv.waitKey(0)